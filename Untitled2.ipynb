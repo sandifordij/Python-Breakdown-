{
 "cells": [
  {
   "cell_type": "code",
   "execution_count": null,
   "metadata": {},
   "outputs": [],
   "source": [
    "\n",
    "#import dependencies\n",
    "%matplotlib inline\n",
    "import matplotlib.pyplot as plt\n",
    "import pandas as pd\n",
    "import numpy as np\n",
    "import csv\n",
    "from matplotlib.pyplot import pie, axis, show\n",
    "from collections import Counter\n",
    "\n",
    "from scipy import stats\n",
    "\n",
    "#hide warning messages\n",
    "import warnings\n",
    "warnings.filterwarnings('ignore')\n",
    "\n",
    "#read csv data\n",
    "countries_top_artist = pd.read_csv(\"C:\\\\Users\\\\6560b\\\\Desktop\\\\homeworkUofR\\\\project2\\\\07-Project_1\\\\Output\\\\artist.csv\")\n",
    "countries_top_artist"
   ]
  },
  {
   "cell_type": "code",
   "execution_count": null,
   "metadata": {},
   "outputs": [],
   "source": [
    "#check Genre column\n",
    "countries_top_artist[\"name_genre\"].value_counts()\n",
    "countries_top_artist[\"name\"].value_counts()\n",
    "countries_top_artist[\"stats.listeners\"].value_counts()\n",
    "countries_top_artist[\"stats.playcount\"].value_counts()\n",
    "\n",
    "#Locate the various rows in the data table \n",
    "NameG = countries_top_artist.loc[countries_top_artist[\"name_genre\"] == \"NameG\", :]\n",
    "NameA = countries_top_artist.loc[countries_top_artist[\"name\"] == \"NameA\", :]\n",
    "Stat_Listeners = countries_top_artist.loc[countries_top_artist[\"stats.listeners\"] == \"Stat_Listeners 2\", :]\n",
    "Stat_playcount = countries_top_artist.loc[countries_top_artist[\"stats.playcount\"] == \"Stat_playcount\", :]\n"
   ]
  },
  {
   "cell_type": "code",
   "execution_count": null,
   "metadata": {},
   "outputs": [],
   "source": [
    "#remove various data from data sets \n",
    "Clean_countries_top_artist = countries_top_artist[[\"name\",\"name_genre\",\"stats.listeners\",\"stats.playcount\"]]\n",
    "Clean_countries_top_artist\n",
    "\n"
   ]
  },
  {
   "cell_type": "code",
   "execution_count": null,
   "metadata": {
    "scrolled": false
   },
   "outputs": [],
   "source": [
    "    countries_top_artist.head(6)"
   ]
  },
  {
   "cell_type": "code",
   "execution_count": null,
   "metadata": {},
   "outputs": [],
   "source": [
    "countries_top_artist.count()"
   ]
  },
  {
   "cell_type": "code",
   "execution_count": null,
   "metadata": {
    "scrolled": false
   },
   "outputs": [],
   "source": [
    "len(countries_top_artist.name.unique())"
   ]
  },
  {
   "cell_type": "code",
   "execution_count": null,
   "metadata": {
    "scrolled": true
   },
   "outputs": [],
   "source": [
    "len(countries_top_artist.name_genre.unique())"
   ]
  },
  {
   "cell_type": "code",
   "execution_count": null,
   "metadata": {},
   "outputs": [],
   "source": [
    "countries_top_artist.describe()"
   ]
  },
  {
   "cell_type": "raw",
   "metadata": {},
   "source": []
  },
  {
   "cell_type": "code",
   "execution_count": null,
   "metadata": {},
   "outputs": [],
   "source": [
    "countries_top_artist.sort_values(by=['stats.playcount'],ascending=False).head(6)"
   ]
  },
  {
   "cell_type": "code",
   "execution_count": null,
   "metadata": {},
   "outputs": [],
   "source": [
    "countries_top_artist.sort_values(by=['name','stats.playcount'],ascending=False).head(6)"
   ]
  },
  {
   "cell_type": "code",
   "execution_count": null,
   "metadata": {},
   "outputs": [],
   "source": [
    "df1 =countries_top_artist.groupby('name')['stats.playcount'].apply(np.average)\n",
    "df1.head(100)"
   ]
  },
  {
   "cell_type": "code",
   "execution_count": null,
   "metadata": {},
   "outputs": [],
   "source": [
    "df1.__class__\n"
   ]
  },
  {
   "cell_type": "code",
   "execution_count": null,
   "metadata": {},
   "outputs": [],
   "source": [
    "df2 = df1.reset_index()"
   ]
  },
  {
   "cell_type": "code",
   "execution_count": null,
   "metadata": {},
   "outputs": [],
   "source": [
    "df2.__class__"
   ]
  },
  {
   "cell_type": "code",
   "execution_count": null,
   "metadata": {},
   "outputs": [],
   "source": [
    "df2.head(6)"
   ]
  },
  {
   "cell_type": "code",
   "execution_count": 23,
   "metadata": {},
   "outputs": [
    {
     "data": {
      "text/html": [
       "<div>\n",
       "<style scoped>\n",
       "    .dataframe tbody tr th:only-of-type {\n",
       "        vertical-align: middle;\n",
       "    }\n",
       "\n",
       "    .dataframe tbody tr th {\n",
       "        vertical-align: top;\n",
       "    }\n",
       "\n",
       "    .dataframe thead th {\n",
       "        text-align: right;\n",
       "    }\n",
       "</style>\n",
       "<table border=\"1\" class=\"dataframe\">\n",
       "  <thead>\n",
       "    <tr style=\"text-align: right;\">\n",
       "      <th></th>\n",
       "      <th>name</th>\n",
       "      <th>stats.playcount</th>\n",
       "    </tr>\n",
       "  </thead>\n",
       "  <tbody>\n",
       "    <tr>\n",
       "      <th>71</th>\n",
       "      <td>BTS</td>\n",
       "      <td>715401064.0</td>\n",
       "    </tr>\n",
       "    <tr>\n",
       "      <th>689</th>\n",
       "      <td>The Beatles</td>\n",
       "      <td>581966286.0</td>\n",
       "    </tr>\n",
       "    <tr>\n",
       "      <th>600</th>\n",
       "      <td>Radiohead</td>\n",
       "      <td>559780563.0</td>\n",
       "    </tr>\n",
       "    <tr>\n",
       "      <th>678</th>\n",
       "      <td>Taylor Swift</td>\n",
       "      <td>414971804.0</td>\n",
       "    </tr>\n",
       "    <tr>\n",
       "      <th>173</th>\n",
       "      <td>Coldplay</td>\n",
       "      <td>391787973.0</td>\n",
       "    </tr>\n",
       "    <tr>\n",
       "      <th>51</th>\n",
       "      <td>Arctic Monkeys</td>\n",
       "      <td>385389280.0</td>\n",
       "    </tr>\n",
       "  </tbody>\n",
       "</table>\n",
       "</div>"
      ],
      "text/plain": [
       "               name  stats.playcount\n",
       "71              BTS      715401064.0\n",
       "689     The Beatles      581966286.0\n",
       "600       Radiohead      559780563.0\n",
       "678    Taylor Swift      414971804.0\n",
       "173        Coldplay      391787973.0\n",
       "51   Arctic Monkeys      385389280.0"
      ]
     },
     "execution_count": 23,
     "metadata": {},
     "output_type": "execute_result"
    },
    {
     "data": {
      "text/html": [
       "<div>\n",
       "<style scoped>\n",
       "    .dataframe tbody tr th:only-of-type {\n",
       "        vertical-align: middle;\n",
       "    }\n",
       "\n",
       "    .dataframe tbody tr th {\n",
       "        vertical-align: top;\n",
       "    }\n",
       "\n",
       "    .dataframe thead th {\n",
       "        text-align: right;\n",
       "    }\n",
       "</style>\n",
       "<table border=\"1\" class=\"dataframe\">\n",
       "  <thead>\n",
       "    <tr style=\"text-align: right;\">\n",
       "      <th></th>\n",
       "      <th>name</th>\n",
       "      <th>stats.playcount</th>\n",
       "    </tr>\n",
       "  </thead>\n",
       "  <tbody>\n",
       "    <tr>\n",
       "      <th>71</th>\n",
       "      <td>BTS</td>\n",
       "      <td>715401064.0</td>\n",
       "    </tr>\n",
       "    <tr>\n",
       "      <th>689</th>\n",
       "      <td>The Beatles</td>\n",
       "      <td>581966286.0</td>\n",
       "    </tr>\n",
       "    <tr>\n",
       "      <th>600</th>\n",
       "      <td>Radiohead</td>\n",
       "      <td>559780563.0</td>\n",
       "    </tr>\n",
       "    <tr>\n",
       "      <th>678</th>\n",
       "      <td>Taylor Swift</td>\n",
       "      <td>414971804.0</td>\n",
       "    </tr>\n",
       "    <tr>\n",
       "      <th>173</th>\n",
       "      <td>Coldplay</td>\n",
       "      <td>391787973.0</td>\n",
       "    </tr>\n",
       "    <tr>\n",
       "      <th>51</th>\n",
       "      <td>Arctic Monkeys</td>\n",
       "      <td>385389280.0</td>\n",
       "    </tr>\n",
       "  </tbody>\n",
       "</table>\n",
       "</div>"
      ],
      "text/plain": [
       "               name  stats.playcount\n",
       "71              BTS      715401064.0\n",
       "689     The Beatles      581966286.0\n",
       "600       Radiohead      559780563.0\n",
       "678    Taylor Swift      414971804.0\n",
       "173        Coldplay      391787973.0\n",
       "51   Arctic Monkeys      385389280.0"
      ]
     },
     "execution_count": 23,
     "metadata": {},
     "output_type": "execute_result"
    }
   ],
   "source": [
    "df2.sort_values(by=['stats.playcount'],ascending=False,inplace=True)\n",
    "df2.head(6)\n",
    "\n"
   ]
  },
  {
   "cell_type": "code",
   "execution_count": 24,
   "metadata": {
    "scrolled": true
   },
   "outputs": [
    {
     "data": {
      "text/plain": [
       "array([ 71, 689, 600, 678, 173,  51, 415, 514, 390, 579, 433, 607, 418,\n",
       "       486, 540, 671,  53, 238, 611, 185, 123, 705, 593, 189, 566, 306,\n",
       "       278, 423, 215, 305, 730,  90, 582,  49, 813, 539, 394, 605, 274,\n",
       "       726, 461, 201, 337, 697, 406, 195, 736, 720, 109, 259, 547, 712,\n",
       "       573, 399, 594, 283, 767, 515, 740, 612, 665,  11, 489, 653, 698,\n",
       "        16, 408, 690, 725, 167, 114, 536, 750, 810, 564, 737, 648, 715,\n",
       "       471, 468, 503, 335,  67, 100, 478, 308, 785, 377, 343, 285,   3,\n",
       "       676, 709, 334, 199, 210, 774, 581, 103, 378, 122, 234, 383, 227,\n",
       "       457, 250, 178, 104,  83, 497, 766, 442, 467, 719, 108, 513,  37,\n",
       "       404, 596, 395, 358, 333, 216, 501, 107, 602, 190, 646, 534, 553,\n",
       "        95, 233, 748,  19, 655, 724, 695,  30, 454, 217, 797, 272, 742,\n",
       "       608, 584, 126, 533,  81, 146, 392, 116,  46, 411, 556,  42, 132,\n",
       "       565, 307, 638, 577, 681, 429, 385, 688, 315, 458,  85, 386, 368,\n",
       "       120,  82, 763, 200, 583,   6, 101, 738, 642, 236, 432, 560, 790,\n",
       "       277, 796,  17, 271, 163, 606, 812, 620,  70, 284, 586, 336, 658,\n",
       "       469, 369, 764, 431, 384, 159, 525,   8, 396, 554, 543, 398,  32,\n",
       "       531, 115, 733, 685, 649, 264, 127, 111, 510, 153, 177, 280, 356,\n",
       "       562,   1, 413, 692, 696, 235, 110, 530, 453, 314, 208,   2, 373,\n",
       "       451, 675, 757, 253, 751, 499, 559, 393, 316, 708, 713,  63, 165,\n",
       "       520, 339, 291, 197, 618,  31, 707, 488, 196,  47, 701, 412, 351,\n",
       "       152,  66,  10, 636,  38, 246, 496, 346, 427, 252, 436, 276, 717,\n",
       "        26,  39, 587, 569,  79, 718, 652, 407, 304, 791, 293,   7, 661,\n",
       "       532, 326, 302, 793, 644, 270, 714, 741, 203, 527, 289, 836, 549,\n",
       "       754, 143, 538,   5, 746, 381, 800, 347, 214, 627, 541, 651, 654,\n",
       "       198, 775, 493, 773, 450, 139, 619,   4, 447, 376, 294, 615, 414,\n",
       "       242, 801, 133, 224,  97, 585, 721, 121, 113, 706, 723, 360, 662,\n",
       "       212, 223, 147, 400, 448, 303, 206, 209, 463, 465, 508, 363,  80,\n",
       "       761, 660, 327, 487, 474, 464, 580, 570, 102, 623, 734, 776, 231,\n",
       "       806, 311, 739, 273,  75, 480, 576, 262, 710, 375,  40, 151, 106,\n",
       "       452, 672, 172, 281,  29, 416,  86, 365, 331, 589, 439, 460, 239,\n",
       "       419, 769, 275, 445, 188, 691,  43, 821, 232, 220, 702,  50, 516,\n",
       "       811,  34, 624, 743,  96, 765, 571, 194, 382, 180, 241, 128, 361,\n",
       "       815, 728, 254, 300,  99,  77,  52, 759, 756, 352, 332, 629, 544,\n",
       "       301, 403, 187, 355,  68, 240, 693, 634, 426, 446, 598, 492, 787,\n",
       "       318, 105, 524, 635, 807, 156, 410, 832, 353, 686, 604, 711, 558,\n",
       "        84, 479,  91,  21, 149, 380, 258, 420, 574, 176, 374, 268, 202,\n",
       "       650, 753, 617,  88, 287, 371, 470, 150, 297, 348, 354, 590, 170,\n",
       "       330, 509, 747, 668, 171, 494, 657, 568, 440, 631, 372, 141, 502,\n",
       "       542, 237, 435, 809, 135,  12, 324,  76, 735, 798, 546, 521, 482,\n",
       "       349, 162, 609, 484, 269, 755, 247, 637, 473, 699,  22, 528, 616,\n",
       "       225, 805, 526, 621, 788, 517, 548, 506, 169, 409, 183, 181, 758,\n",
       "       491, 379, 575, 490, 771, 663, 777,  15, 249, 625, 350, 437, 475,\n",
       "       136,  64, 704, 782, 328, 279, 472,  94,  23, 338, 323, 716, 485,\n",
       "       613, 537, 595, 160, 817,  13, 656, 819, 789, 296,  18, 500, 290,\n",
       "       248, 578, 211,  41, 535, 345, 182, 218, 643, 317, 551, 495, 397,\n",
       "       732,  25,  28, 186, 818, 148, 837, 421, 673, 222, 184,   0,  87,\n",
       "       366, 597,  98, 321, 674, 694, 820, 292, 119, 255, 727, 601, 786,\n",
       "       729, 207,  69, 816, 179, 142, 295, 129, 829, 830, 779, 310, 744,\n",
       "       166,  36, 213, 175, 614, 670, 364,  58, 768, 286, 778,  33, 749,\n",
       "       770, 251, 731, 752, 124,  35, 834, 288, 312,  72, 703, 140, 512,\n",
       "       826, 428,  48, 781, 610, 804, 808, 221,  73, 641, 309, 825, 823,\n",
       "       438, 145, 357, 794, 370, 425, 700, 192, 563, 669,  89, 424, 389,\n",
       "       780, 522,  92,  24, 401, 449, 267,  14, 256,   9, 523, 359, 174,\n",
       "       417, 261, 193, 799, 117, 840, 839, 118, 441, 243, 552, 466, 828,\n",
       "       144, 266,  59, 567, 838, 814, 626, 158, 795, 265, 666, 161, 319,\n",
       "       803, 430, 827, 591, 282, 219, 325, 640, 507, 677, 322, 313, 362,\n",
       "       529, 557, 684, 422, 131,  20, 112, 205, 444, 298, 835,  56, 341,\n",
       "        74,  60, 164, 682, 831, 443, 824, 483, 667, 645, 134,  45, 329,\n",
       "       841, 344, 628,  93, 833, 687, 299, 320,  61, 647, 342,  78, 679,\n",
       "       229, 760, 659, 588, 340, 680, 783, 257, 822, 402, 572, 230, 405,\n",
       "       455, 762, 138, 518, 630, 498,  44, 802, 155, 367, 244, 137, 545,\n",
       "       462, 722, 639, 477, 245, 745, 772,  54, 456, 519, 204, 792, 505,\n",
       "       603, 664, 226, 125, 481,  62, 434, 228, 511, 191, 168, 263, 157,\n",
       "       504, 391, 683, 632, 388, 561, 555,  55, 459, 154, 130, 784, 550,\n",
       "       599, 633,  57,  27, 476,  65, 260, 622, 387, 592], dtype=int64)"
      ]
     },
     "execution_count": 24,
     "metadata": {},
     "output_type": "execute_result"
    },
    {
     "data": {
      "text/plain": [
       "array([ 71, 689, 600, 678, 173,  51, 415, 514, 390, 579, 433, 607, 418,\n",
       "       486, 540, 671,  53, 238, 611, 185, 123, 705, 593, 189, 566, 306,\n",
       "       278, 423, 215, 305, 730,  90, 582,  49, 813, 539, 394, 605, 274,\n",
       "       726, 461, 201, 337, 697, 406, 195, 736, 720, 109, 259, 547, 712,\n",
       "       573, 399, 594, 283, 767, 515, 740, 612, 665,  11, 489, 653, 698,\n",
       "        16, 408, 690, 725, 167, 114, 536, 750, 810, 564, 737, 648, 715,\n",
       "       471, 468, 503, 335,  67, 100, 478, 308, 785, 377, 343, 285,   3,\n",
       "       676, 709, 334, 199, 210, 774, 581, 103, 378, 122, 234, 383, 227,\n",
       "       457, 250, 178, 104,  83, 497, 766, 442, 467, 719, 108, 513,  37,\n",
       "       404, 596, 395, 358, 333, 216, 501, 107, 602, 190, 646, 534, 553,\n",
       "        95, 233, 748,  19, 655, 724, 695,  30, 454, 217, 797, 272, 742,\n",
       "       608, 584, 126, 533,  81, 146, 392, 116,  46, 411, 556,  42, 132,\n",
       "       565, 307, 638, 577, 681, 429, 385, 688, 315, 458,  85, 386, 368,\n",
       "       120,  82, 763, 200, 583,   6, 101, 738, 642, 236, 432, 560, 790,\n",
       "       277, 796,  17, 271, 163, 606, 812, 620,  70, 284, 586, 336, 658,\n",
       "       469, 369, 764, 431, 384, 159, 525,   8, 396, 554, 543, 398,  32,\n",
       "       531, 115, 733, 685, 649, 264, 127, 111, 510, 153, 177, 280, 356,\n",
       "       562,   1, 413, 692, 696, 235, 110, 530, 453, 314, 208,   2, 373,\n",
       "       451, 675, 757, 253, 751, 499, 559, 393, 316, 708, 713,  63, 165,\n",
       "       520, 339, 291, 197, 618,  31, 707, 488, 196,  47, 701, 412, 351,\n",
       "       152,  66,  10, 636,  38, 246, 496, 346, 427, 252, 436, 276, 717,\n",
       "        26,  39, 587, 569,  79, 718, 652, 407, 304, 791, 293,   7, 661,\n",
       "       532, 326, 302, 793, 644, 270, 714, 741, 203, 527, 289, 836, 549,\n",
       "       754, 143, 538,   5, 746, 381, 800, 347, 214, 627, 541, 651, 654,\n",
       "       198, 775, 493, 773, 450, 139, 619,   4, 447, 376, 294, 615, 414,\n",
       "       242, 801, 133, 224,  97, 585, 721, 121, 113, 706, 723, 360, 662,\n",
       "       212, 223, 147, 400, 448, 303, 206, 209, 463, 465, 508, 363,  80,\n",
       "       761, 660, 327, 487, 474, 464, 580, 570, 102, 623, 734, 776, 231,\n",
       "       806, 311, 739, 273,  75, 480, 576, 262, 710, 375,  40, 151, 106,\n",
       "       452, 672, 172, 281,  29, 416,  86, 365, 331, 589, 439, 460, 239,\n",
       "       419, 769, 275, 445, 188, 691,  43, 821, 232, 220, 702,  50, 516,\n",
       "       811,  34, 624, 743,  96, 765, 571, 194, 382, 180, 241, 128, 361,\n",
       "       815, 728, 254, 300,  99,  77,  52, 759, 756, 352, 332, 629, 544,\n",
       "       301, 403, 187, 355,  68, 240, 693, 634, 426, 446, 598, 492, 787,\n",
       "       318, 105, 524, 635, 807, 156, 410, 832, 353, 686, 604, 711, 558,\n",
       "        84, 479,  91,  21, 149, 380, 258, 420, 574, 176, 374, 268, 202,\n",
       "       650, 753, 617,  88, 287, 371, 470, 150, 297, 348, 354, 590, 170,\n",
       "       330, 509, 747, 668, 171, 494, 657, 568, 440, 631, 372, 141, 502,\n",
       "       542, 237, 435, 809, 135,  12, 324,  76, 735, 798, 546, 521, 482,\n",
       "       349, 162, 609, 484, 269, 755, 247, 637, 473, 699,  22, 528, 616,\n",
       "       225, 805, 526, 621, 788, 517, 548, 506, 169, 409, 183, 181, 758,\n",
       "       491, 379, 575, 490, 771, 663, 777,  15, 249, 625, 350, 437, 475,\n",
       "       136,  64, 704, 782, 328, 279, 472,  94,  23, 338, 323, 716, 485,\n",
       "       613, 537, 595, 160, 817,  13, 656, 819, 789, 296,  18, 500, 290,\n",
       "       248, 578, 211,  41, 535, 345, 182, 218, 643, 317, 551, 495, 397,\n",
       "       732,  25,  28, 186, 818, 148, 837, 421, 673, 222, 184,   0,  87,\n",
       "       366, 597,  98, 321, 674, 694, 820, 292, 119, 255, 727, 601, 786,\n",
       "       729, 207,  69, 816, 179, 142, 295, 129, 829, 830, 779, 310, 744,\n",
       "       166,  36, 213, 175, 614, 670, 364,  58, 768, 286, 778,  33, 749,\n",
       "       770, 251, 731, 752, 124,  35, 834, 288, 312,  72, 703, 140, 512,\n",
       "       826, 428,  48, 781, 610, 804, 808, 221,  73, 641, 309, 825, 823,\n",
       "       438, 145, 357, 794, 370, 425, 700, 192, 563, 669,  89, 424, 389,\n",
       "       780, 522,  92,  24, 401, 449, 267,  14, 256,   9, 523, 359, 174,\n",
       "       417, 261, 193, 799, 117, 840, 839, 118, 441, 243, 552, 466, 828,\n",
       "       144, 266,  59, 567, 838, 814, 626, 158, 795, 265, 666, 161, 319,\n",
       "       803, 430, 827, 591, 282, 219, 325, 640, 507, 677, 322, 313, 362,\n",
       "       529, 557, 684, 422, 131,  20, 112, 205, 444, 298, 835,  56, 341,\n",
       "        74,  60, 164, 682, 831, 443, 824, 483, 667, 645, 134,  45, 329,\n",
       "       841, 344, 628,  93, 833, 687, 299, 320,  61, 647, 342,  78, 679,\n",
       "       229, 760, 659, 588, 340, 680, 783, 257, 822, 402, 572, 230, 405,\n",
       "       455, 762, 138, 518, 630, 498,  44, 802, 155, 367, 244, 137, 545,\n",
       "       462, 722, 639, 477, 245, 745, 772,  54, 456, 519, 204, 792, 505,\n",
       "       603, 664, 226, 125, 481,  62, 434, 228, 511, 191, 168, 263, 157,\n",
       "       504, 391, 683, 632, 388, 561, 555,  55, 459, 154, 130, 784, 550,\n",
       "       599, 633,  57,  27, 476,  65, 260, 622, 387, 592], dtype=int64)"
      ]
     },
     "execution_count": 24,
     "metadata": {},
     "output_type": "execute_result"
    }
   ],
   "source": [
    "df2.index.values"
   ]
  },
  {
   "cell_type": "code",
   "execution_count": 27,
   "metadata": {},
   "outputs": [],
   "source": [
    "countries_top_artist_count = countries_top_artist[\"stats.playcount\"].value_counts()"
   ]
  },
  {
   "cell_type": "code",
   "execution_count": 28,
   "metadata": {},
   "outputs": [
    {
     "ename": "KeyError",
     "evalue": "('stats.playcount', 'name')",
     "output_type": "error",
     "traceback": [
      "\u001b[1;31m---------------------------------------------------------------------------\u001b[0m",
      "\u001b[1;31mKeyError\u001b[0m                                  Traceback (most recent call last)",
      "\u001b[1;32m~\\anaconda3\\lib\\site-packages\\pandas\\core\\indexes\\base.py\u001b[0m in \u001b[0;36mget_loc\u001b[1;34m(self, key, method, tolerance)\u001b[0m\n\u001b[0;32m   2894\u001b[0m             \u001b[1;32mtry\u001b[0m\u001b[1;33m:\u001b[0m\u001b[1;33m\u001b[0m\u001b[1;33m\u001b[0m\u001b[0m\n\u001b[1;32m-> 2895\u001b[1;33m                 \u001b[1;32mreturn\u001b[0m \u001b[0mself\u001b[0m\u001b[1;33m.\u001b[0m\u001b[0m_engine\u001b[0m\u001b[1;33m.\u001b[0m\u001b[0mget_loc\u001b[0m\u001b[1;33m(\u001b[0m\u001b[0mcasted_key\u001b[0m\u001b[1;33m)\u001b[0m\u001b[1;33m\u001b[0m\u001b[1;33m\u001b[0m\u001b[0m\n\u001b[0m\u001b[0;32m   2896\u001b[0m             \u001b[1;32mexcept\u001b[0m \u001b[0mKeyError\u001b[0m \u001b[1;32mas\u001b[0m \u001b[0merr\u001b[0m\u001b[1;33m:\u001b[0m\u001b[1;33m\u001b[0m\u001b[1;33m\u001b[0m\u001b[0m\n",
      "\u001b[1;32mpandas\\_libs\\index.pyx\u001b[0m in \u001b[0;36mpandas._libs.index.IndexEngine.get_loc\u001b[1;34m()\u001b[0m\n",
      "\u001b[1;32mpandas\\_libs\\index.pyx\u001b[0m in \u001b[0;36mpandas._libs.index.IndexEngine.get_loc\u001b[1;34m()\u001b[0m\n",
      "\u001b[1;32mpandas\\_libs\\hashtable_class_helper.pxi\u001b[0m in \u001b[0;36mpandas._libs.hashtable.PyObjectHashTable.get_item\u001b[1;34m()\u001b[0m\n",
      "\u001b[1;32mpandas\\_libs\\hashtable_class_helper.pxi\u001b[0m in \u001b[0;36mpandas._libs.hashtable.PyObjectHashTable.get_item\u001b[1;34m()\u001b[0m\n",
      "\u001b[1;31mKeyError\u001b[0m: ('stats.playcount', 'name')",
      "\nThe above exception was the direct cause of the following exception:\n",
      "\u001b[1;31mKeyError\u001b[0m                                  Traceback (most recent call last)",
      "\u001b[1;32m<ipython-input-28-1225476282cb>\u001b[0m in \u001b[0;36m<module>\u001b[1;34m\u001b[0m\n\u001b[1;32m----> 1\u001b[1;33m \u001b[0mcounts\u001b[0m\u001b[1;33m=\u001b[0m \u001b[0mcountries_top_artist\u001b[0m\u001b[1;33m[\u001b[0m\u001b[1;34m'stats.playcount'\u001b[0m\u001b[1;33m,\u001b[0m \u001b[1;34m'name'\u001b[0m\u001b[1;33m]\u001b[0m\u001b[1;33m.\u001b[0m\u001b[0mvalue_counts\u001b[0m\u001b[1;33m(\u001b[0m\u001b[1;33m)\u001b[0m\u001b[1;33m\u001b[0m\u001b[1;33m\u001b[0m\u001b[0m\n\u001b[0m\u001b[0;32m      2\u001b[0m \u001b[0mcounts\u001b[0m\u001b[1;33m.\u001b[0m\u001b[0mhead\u001b[0m\u001b[1;33m(\u001b[0m\u001b[1;36m6\u001b[0m\u001b[1;33m)\u001b[0m\u001b[1;33m\u001b[0m\u001b[1;33m\u001b[0m\u001b[0m\n",
      "\u001b[1;32m~\\anaconda3\\lib\\site-packages\\pandas\\core\\frame.py\u001b[0m in \u001b[0;36m__getitem__\u001b[1;34m(self, key)\u001b[0m\n\u001b[0;32m   2900\u001b[0m             \u001b[1;32mif\u001b[0m \u001b[0mself\u001b[0m\u001b[1;33m.\u001b[0m\u001b[0mcolumns\u001b[0m\u001b[1;33m.\u001b[0m\u001b[0mnlevels\u001b[0m \u001b[1;33m>\u001b[0m \u001b[1;36m1\u001b[0m\u001b[1;33m:\u001b[0m\u001b[1;33m\u001b[0m\u001b[1;33m\u001b[0m\u001b[0m\n\u001b[0;32m   2901\u001b[0m                 \u001b[1;32mreturn\u001b[0m \u001b[0mself\u001b[0m\u001b[1;33m.\u001b[0m\u001b[0m_getitem_multilevel\u001b[0m\u001b[1;33m(\u001b[0m\u001b[0mkey\u001b[0m\u001b[1;33m)\u001b[0m\u001b[1;33m\u001b[0m\u001b[1;33m\u001b[0m\u001b[0m\n\u001b[1;32m-> 2902\u001b[1;33m             \u001b[0mindexer\u001b[0m \u001b[1;33m=\u001b[0m \u001b[0mself\u001b[0m\u001b[1;33m.\u001b[0m\u001b[0mcolumns\u001b[0m\u001b[1;33m.\u001b[0m\u001b[0mget_loc\u001b[0m\u001b[1;33m(\u001b[0m\u001b[0mkey\u001b[0m\u001b[1;33m)\u001b[0m\u001b[1;33m\u001b[0m\u001b[1;33m\u001b[0m\u001b[0m\n\u001b[0m\u001b[0;32m   2903\u001b[0m             \u001b[1;32mif\u001b[0m \u001b[0mis_integer\u001b[0m\u001b[1;33m(\u001b[0m\u001b[0mindexer\u001b[0m\u001b[1;33m)\u001b[0m\u001b[1;33m:\u001b[0m\u001b[1;33m\u001b[0m\u001b[1;33m\u001b[0m\u001b[0m\n\u001b[0;32m   2904\u001b[0m                 \u001b[0mindexer\u001b[0m \u001b[1;33m=\u001b[0m \u001b[1;33m[\u001b[0m\u001b[0mindexer\u001b[0m\u001b[1;33m]\u001b[0m\u001b[1;33m\u001b[0m\u001b[1;33m\u001b[0m\u001b[0m\n",
      "\u001b[1;32m~\\anaconda3\\lib\\site-packages\\pandas\\core\\indexes\\base.py\u001b[0m in \u001b[0;36mget_loc\u001b[1;34m(self, key, method, tolerance)\u001b[0m\n\u001b[0;32m   2895\u001b[0m                 \u001b[1;32mreturn\u001b[0m \u001b[0mself\u001b[0m\u001b[1;33m.\u001b[0m\u001b[0m_engine\u001b[0m\u001b[1;33m.\u001b[0m\u001b[0mget_loc\u001b[0m\u001b[1;33m(\u001b[0m\u001b[0mcasted_key\u001b[0m\u001b[1;33m)\u001b[0m\u001b[1;33m\u001b[0m\u001b[1;33m\u001b[0m\u001b[0m\n\u001b[0;32m   2896\u001b[0m             \u001b[1;32mexcept\u001b[0m \u001b[0mKeyError\u001b[0m \u001b[1;32mas\u001b[0m \u001b[0merr\u001b[0m\u001b[1;33m:\u001b[0m\u001b[1;33m\u001b[0m\u001b[1;33m\u001b[0m\u001b[0m\n\u001b[1;32m-> 2897\u001b[1;33m                 \u001b[1;32mraise\u001b[0m \u001b[0mKeyError\u001b[0m\u001b[1;33m(\u001b[0m\u001b[0mkey\u001b[0m\u001b[1;33m)\u001b[0m \u001b[1;32mfrom\u001b[0m \u001b[0merr\u001b[0m\u001b[1;33m\u001b[0m\u001b[1;33m\u001b[0m\u001b[0m\n\u001b[0m\u001b[0;32m   2898\u001b[0m \u001b[1;33m\u001b[0m\u001b[0m\n\u001b[0;32m   2899\u001b[0m         \u001b[1;32mif\u001b[0m \u001b[0mtolerance\u001b[0m \u001b[1;32mis\u001b[0m \u001b[1;32mnot\u001b[0m \u001b[1;32mNone\u001b[0m\u001b[1;33m:\u001b[0m\u001b[1;33m\u001b[0m\u001b[1;33m\u001b[0m\u001b[0m\n",
      "\u001b[1;31mKeyError\u001b[0m: ('stats.playcount', 'name')"
     ]
    },
    {
     "ename": "KeyError",
     "evalue": "('stats.playcount', 'name')",
     "output_type": "error",
     "traceback": [
      "\u001b[1;31m---------------------------------------------------------------------------\u001b[0m",
      "\u001b[1;31mKeyError\u001b[0m                                  Traceback (most recent call last)",
      "\u001b[1;32m~\\anaconda3\\lib\\site-packages\\pandas\\core\\indexes\\base.py\u001b[0m in \u001b[0;36mget_loc\u001b[1;34m(self, key, method, tolerance)\u001b[0m\n\u001b[0;32m   2894\u001b[0m             \u001b[1;32mtry\u001b[0m\u001b[1;33m:\u001b[0m\u001b[1;33m\u001b[0m\u001b[1;33m\u001b[0m\u001b[0m\n\u001b[1;32m-> 2895\u001b[1;33m                 \u001b[1;32mreturn\u001b[0m \u001b[0mself\u001b[0m\u001b[1;33m.\u001b[0m\u001b[0m_engine\u001b[0m\u001b[1;33m.\u001b[0m\u001b[0mget_loc\u001b[0m\u001b[1;33m(\u001b[0m\u001b[0mcasted_key\u001b[0m\u001b[1;33m)\u001b[0m\u001b[1;33m\u001b[0m\u001b[1;33m\u001b[0m\u001b[0m\n\u001b[0m\u001b[0;32m   2896\u001b[0m             \u001b[1;32mexcept\u001b[0m \u001b[0mKeyError\u001b[0m \u001b[1;32mas\u001b[0m \u001b[0merr\u001b[0m\u001b[1;33m:\u001b[0m\u001b[1;33m\u001b[0m\u001b[1;33m\u001b[0m\u001b[0m\n",
      "\u001b[1;32mpandas\\_libs\\index.pyx\u001b[0m in \u001b[0;36mpandas._libs.index.IndexEngine.get_loc\u001b[1;34m()\u001b[0m\n",
      "\u001b[1;32mpandas\\_libs\\index.pyx\u001b[0m in \u001b[0;36mpandas._libs.index.IndexEngine.get_loc\u001b[1;34m()\u001b[0m\n",
      "\u001b[1;32mpandas\\_libs\\hashtable_class_helper.pxi\u001b[0m in \u001b[0;36mpandas._libs.hashtable.PyObjectHashTable.get_item\u001b[1;34m()\u001b[0m\n",
      "\u001b[1;32mpandas\\_libs\\hashtable_class_helper.pxi\u001b[0m in \u001b[0;36mpandas._libs.hashtable.PyObjectHashTable.get_item\u001b[1;34m()\u001b[0m\n",
      "\u001b[1;31mKeyError\u001b[0m: ('stats.playcount', 'name')",
      "\nThe above exception was the direct cause of the following exception:\n",
      "\u001b[1;31mKeyError\u001b[0m                                  Traceback (most recent call last)",
      "\u001b[1;32m<ipython-input-28-1225476282cb>\u001b[0m in \u001b[0;36m<module>\u001b[1;34m\u001b[0m\n\u001b[1;32m----> 1\u001b[1;33m \u001b[0mcounts\u001b[0m\u001b[1;33m=\u001b[0m \u001b[0mcountries_top_artist\u001b[0m\u001b[1;33m[\u001b[0m\u001b[1;34m'stats.playcount'\u001b[0m\u001b[1;33m,\u001b[0m \u001b[1;34m'name'\u001b[0m\u001b[1;33m]\u001b[0m\u001b[1;33m.\u001b[0m\u001b[0mvalue_counts\u001b[0m\u001b[1;33m(\u001b[0m\u001b[1;33m)\u001b[0m\u001b[1;33m\u001b[0m\u001b[1;33m\u001b[0m\u001b[0m\n\u001b[0m\u001b[0;32m      2\u001b[0m \u001b[0mcounts\u001b[0m\u001b[1;33m.\u001b[0m\u001b[0mhead\u001b[0m\u001b[1;33m(\u001b[0m\u001b[1;36m6\u001b[0m\u001b[1;33m)\u001b[0m\u001b[1;33m\u001b[0m\u001b[1;33m\u001b[0m\u001b[0m\n",
      "\u001b[1;32m~\\anaconda3\\lib\\site-packages\\pandas\\core\\frame.py\u001b[0m in \u001b[0;36m__getitem__\u001b[1;34m(self, key)\u001b[0m\n\u001b[0;32m   2900\u001b[0m             \u001b[1;32mif\u001b[0m \u001b[0mself\u001b[0m\u001b[1;33m.\u001b[0m\u001b[0mcolumns\u001b[0m\u001b[1;33m.\u001b[0m\u001b[0mnlevels\u001b[0m \u001b[1;33m>\u001b[0m \u001b[1;36m1\u001b[0m\u001b[1;33m:\u001b[0m\u001b[1;33m\u001b[0m\u001b[1;33m\u001b[0m\u001b[0m\n\u001b[0;32m   2901\u001b[0m                 \u001b[1;32mreturn\u001b[0m \u001b[0mself\u001b[0m\u001b[1;33m.\u001b[0m\u001b[0m_getitem_multilevel\u001b[0m\u001b[1;33m(\u001b[0m\u001b[0mkey\u001b[0m\u001b[1;33m)\u001b[0m\u001b[1;33m\u001b[0m\u001b[1;33m\u001b[0m\u001b[0m\n\u001b[1;32m-> 2902\u001b[1;33m             \u001b[0mindexer\u001b[0m \u001b[1;33m=\u001b[0m \u001b[0mself\u001b[0m\u001b[1;33m.\u001b[0m\u001b[0mcolumns\u001b[0m\u001b[1;33m.\u001b[0m\u001b[0mget_loc\u001b[0m\u001b[1;33m(\u001b[0m\u001b[0mkey\u001b[0m\u001b[1;33m)\u001b[0m\u001b[1;33m\u001b[0m\u001b[1;33m\u001b[0m\u001b[0m\n\u001b[0m\u001b[0;32m   2903\u001b[0m             \u001b[1;32mif\u001b[0m \u001b[0mis_integer\u001b[0m\u001b[1;33m(\u001b[0m\u001b[0mindexer\u001b[0m\u001b[1;33m)\u001b[0m\u001b[1;33m:\u001b[0m\u001b[1;33m\u001b[0m\u001b[1;33m\u001b[0m\u001b[0m\n\u001b[0;32m   2904\u001b[0m                 \u001b[0mindexer\u001b[0m \u001b[1;33m=\u001b[0m \u001b[1;33m[\u001b[0m\u001b[0mindexer\u001b[0m\u001b[1;33m]\u001b[0m\u001b[1;33m\u001b[0m\u001b[1;33m\u001b[0m\u001b[0m\n",
      "\u001b[1;32m~\\anaconda3\\lib\\site-packages\\pandas\\core\\indexes\\base.py\u001b[0m in \u001b[0;36mget_loc\u001b[1;34m(self, key, method, tolerance)\u001b[0m\n\u001b[0;32m   2895\u001b[0m                 \u001b[1;32mreturn\u001b[0m \u001b[0mself\u001b[0m\u001b[1;33m.\u001b[0m\u001b[0m_engine\u001b[0m\u001b[1;33m.\u001b[0m\u001b[0mget_loc\u001b[0m\u001b[1;33m(\u001b[0m\u001b[0mcasted_key\u001b[0m\u001b[1;33m)\u001b[0m\u001b[1;33m\u001b[0m\u001b[1;33m\u001b[0m\u001b[0m\n\u001b[0;32m   2896\u001b[0m             \u001b[1;32mexcept\u001b[0m \u001b[0mKeyError\u001b[0m \u001b[1;32mas\u001b[0m \u001b[0merr\u001b[0m\u001b[1;33m:\u001b[0m\u001b[1;33m\u001b[0m\u001b[1;33m\u001b[0m\u001b[0m\n\u001b[1;32m-> 2897\u001b[1;33m                 \u001b[1;32mraise\u001b[0m \u001b[0mKeyError\u001b[0m\u001b[1;33m(\u001b[0m\u001b[0mkey\u001b[0m\u001b[1;33m)\u001b[0m \u001b[1;32mfrom\u001b[0m \u001b[0merr\u001b[0m\u001b[1;33m\u001b[0m\u001b[1;33m\u001b[0m\u001b[0m\n\u001b[0m\u001b[0;32m   2898\u001b[0m \u001b[1;33m\u001b[0m\u001b[0m\n\u001b[0;32m   2899\u001b[0m         \u001b[1;32mif\u001b[0m \u001b[0mtolerance\u001b[0m \u001b[1;32mis\u001b[0m \u001b[1;32mnot\u001b[0m \u001b[1;32mNone\u001b[0m\u001b[1;33m:\u001b[0m\u001b[1;33m\u001b[0m\u001b[1;33m\u001b[0m\u001b[0m\n",
      "\u001b[1;31mKeyError\u001b[0m: ('stats.playcount', 'name')"
     ]
    }
   ],
   "source": [
    "counts= countries_top_artist['stats.playcount', 'name'].value_counts()\n",
    "counts.head(6)"
   ]
  },
  {
   "cell_type": "code",
   "execution_count": 29,
   "metadata": {},
   "outputs": [
    {
     "data": {
      "text/plain": [
       "name_genre    url                                   name              stats.listeners  stats.playcount  streamable\n",
       "yeah          https://www.last.fm/tag/yeah          LIL UZI VERT      656975           65065950         0             1\n",
       "classic rock  https://www.last.fm/tag/classic+rock  Joan Baez         638817           7817311          0             1\n",
       "dance         https://www.last.fm/tag/dance         The Chainsmokers  1113148          32590722         0             1\n",
       "                                                    The Avalanches    835581           27357714         0             1\n",
       "                                                    Sam Smith         1317535          44884150         0             1\n",
       "                                                    Little Mix        818413           53029703         0             1\n",
       "dtype: int64"
      ]
     },
     "execution_count": 29,
     "metadata": {},
     "output_type": "execute_result"
    },
    {
     "data": {
      "text/plain": [
       "name_genre    url                                   name              stats.listeners  stats.playcount  streamable\n",
       "yeah          https://www.last.fm/tag/yeah          LIL UZI VERT      656975           65065950         0             1\n",
       "classic rock  https://www.last.fm/tag/classic+rock  Joan Baez         638817           7817311          0             1\n",
       "dance         https://www.last.fm/tag/dance         The Chainsmokers  1113148          32590722         0             1\n",
       "                                                    The Avalanches    835581           27357714         0             1\n",
       "                                                    Sam Smith         1317535          44884150         0             1\n",
       "                                                    Little Mix        818413           53029703         0             1\n",
       "dtype: int64"
      ]
     },
     "execution_count": 29,
     "metadata": {},
     "output_type": "execute_result"
    }
   ],
   "source": [
    "counts.index.values\n",
    "counts.head(6)"
   ]
  },
  {
   "cell_type": "code",
   "execution_count": 37,
   "metadata": {},
   "outputs": [
    {
     "ename": "NameError",
     "evalue": "name 'Tasks' is not defined",
     "output_type": "error",
     "traceback": [
      "\u001b[1;31m---------------------------------------------------------------------------\u001b[0m",
      "\u001b[1;31mNameError\u001b[0m                                 Traceback (most recent call last)",
      "\u001b[1;32m<ipython-input-37-0c33a9db6e6d>\u001b[0m in \u001b[0;36m<module>\u001b[1;34m\u001b[0m\n\u001b[0;32m      1\u001b[0m \u001b[0mmy_labels\u001b[0m \u001b[1;33m=\u001b[0m \u001b[1;34m'Lil Uzi Vert  '\u001b[0m\u001b[1;33m,\u001b[0m\u001b[1;34m'Joan Baez'\u001b[0m \u001b[1;33m,\u001b[0m \u001b[1;34m'The Chainsmokers'\u001b[0m\u001b[1;33m\u001b[0m\u001b[1;33m\u001b[0m\u001b[0m\n\u001b[1;32m----> 2\u001b[1;33m \u001b[0mplt\u001b[0m\u001b[1;33m.\u001b[0m\u001b[0mpie\u001b[0m\u001b[1;33m(\u001b[0m\u001b[0mTasks\u001b[0m\u001b[1;33m,\u001b[0m\u001b[0mlabels\u001b[0m\u001b[1;33m=\u001b[0m\u001b[0mmy_labels\u001b[0m\u001b[1;33m,\u001b[0m\u001b[0mautopct\u001b[0m\u001b[1;33m=\u001b[0m\u001b[1;34m'%1.1f%%'\u001b[0m\u001b[1;33m)\u001b[0m\u001b[1;33m\u001b[0m\u001b[1;33m\u001b[0m\u001b[0m\n\u001b[0m\u001b[0;32m      3\u001b[0m \u001b[0mplt\u001b[0m\u001b[1;33m.\u001b[0m\u001b[0mtitle\u001b[0m\u001b[1;33m(\u001b[0m\u001b[1;33m)\u001b[0m\u001b[1;33m\u001b[0m\u001b[1;33m\u001b[0m\u001b[0m\n\u001b[0;32m      4\u001b[0m \u001b[0mplt\u001b[0m\u001b[1;33m.\u001b[0m\u001b[0maxis\u001b[0m\u001b[1;33m(\u001b[0m\u001b[1;34m'equal'\u001b[0m\u001b[1;33m)\u001b[0m\u001b[1;33m\u001b[0m\u001b[1;33m\u001b[0m\u001b[0m\n\u001b[0;32m      5\u001b[0m \u001b[0mplt\u001b[0m\u001b[1;33m.\u001b[0m\u001b[0mshow\u001b[0m\u001b[1;33m(\u001b[0m\u001b[1;33m)\u001b[0m\u001b[1;33m\u001b[0m\u001b[1;33m\u001b[0m\u001b[0m\n",
      "\u001b[1;31mNameError\u001b[0m: name 'Tasks' is not defined"
     ]
    },
    {
     "ename": "NameError",
     "evalue": "name 'Tasks' is not defined",
     "output_type": "error",
     "traceback": [
      "\u001b[1;31m---------------------------------------------------------------------------\u001b[0m",
      "\u001b[1;31mNameError\u001b[0m                                 Traceback (most recent call last)",
      "\u001b[1;32m<ipython-input-37-0c33a9db6e6d>\u001b[0m in \u001b[0;36m<module>\u001b[1;34m\u001b[0m\n\u001b[0;32m      1\u001b[0m \u001b[0mmy_labels\u001b[0m \u001b[1;33m=\u001b[0m \u001b[1;34m'Lil Uzi Vert  '\u001b[0m\u001b[1;33m,\u001b[0m\u001b[1;34m'Joan Baez'\u001b[0m \u001b[1;33m,\u001b[0m \u001b[1;34m'The Chainsmokers'\u001b[0m\u001b[1;33m\u001b[0m\u001b[1;33m\u001b[0m\u001b[0m\n\u001b[1;32m----> 2\u001b[1;33m \u001b[0mplt\u001b[0m\u001b[1;33m.\u001b[0m\u001b[0mpie\u001b[0m\u001b[1;33m(\u001b[0m\u001b[0mTasks\u001b[0m\u001b[1;33m,\u001b[0m\u001b[0mlabels\u001b[0m\u001b[1;33m=\u001b[0m\u001b[0mmy_labels\u001b[0m\u001b[1;33m,\u001b[0m\u001b[0mautopct\u001b[0m\u001b[1;33m=\u001b[0m\u001b[1;34m'%1.1f%%'\u001b[0m\u001b[1;33m)\u001b[0m\u001b[1;33m\u001b[0m\u001b[1;33m\u001b[0m\u001b[0m\n\u001b[0m\u001b[0;32m      3\u001b[0m \u001b[0mplt\u001b[0m\u001b[1;33m.\u001b[0m\u001b[0mtitle\u001b[0m\u001b[1;33m(\u001b[0m\u001b[1;33m)\u001b[0m\u001b[1;33m\u001b[0m\u001b[1;33m\u001b[0m\u001b[0m\n\u001b[0;32m      4\u001b[0m \u001b[0mplt\u001b[0m\u001b[1;33m.\u001b[0m\u001b[0maxis\u001b[0m\u001b[1;33m(\u001b[0m\u001b[1;34m'equal'\u001b[0m\u001b[1;33m)\u001b[0m\u001b[1;33m\u001b[0m\u001b[1;33m\u001b[0m\u001b[0m\n\u001b[0;32m      5\u001b[0m \u001b[0mplt\u001b[0m\u001b[1;33m.\u001b[0m\u001b[0mshow\u001b[0m\u001b[1;33m(\u001b[0m\u001b[1;33m)\u001b[0m\u001b[1;33m\u001b[0m\u001b[1;33m\u001b[0m\u001b[0m\n",
      "\u001b[1;31mNameError\u001b[0m: name 'Tasks' is not defined"
     ]
    }
   ],
   "source": [
    "\n",
    "\n",
    "my_labels = 'Lil Uzi Vert  ','Joan Baez' , 'The Chainsmokers'\n",
    "plt.pie(Tasks,labels=my_labels,autopct='%1.1f%%')\n",
    "plt.title()\n",
    "plt.axis('equal')\n",
    "plt.show()"
   ]
  },
  {
   "cell_type": "code",
   "execution_count": null,
   "metadata": {},
   "outputs": [],
   "source": []
  },
  {
   "cell_type": "code",
   "execution_count": null,
   "metadata": {},
   "outputs": [],
   "source": []
  },
  {
   "cell_type": "code",
   "execution_count": null,
   "metadata": {},
   "outputs": [],
   "source": []
  }
 ],
 "metadata": {
  "kernelspec": {
   "display_name": "Python 3",
   "language": "python",
   "name": "python3"
  },
  "language_info": {
   "codemirror_mode": {
    "name": "ipython",
    "version": 3
   },
   "file_extension": ".py",
   "mimetype": "text/x-python",
   "name": "python",
   "nbconvert_exporter": "python",
   "pygments_lexer": "ipython3",
   "version": "3.8.5"
  }
 },
 "nbformat": 4,
 "nbformat_minor": 4
}
