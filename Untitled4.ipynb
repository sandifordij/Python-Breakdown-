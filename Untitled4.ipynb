{
 "cells": [
  {
   "cell_type": "code",
   "execution_count": 1,
   "metadata": {},
   "outputs": [
    {
     "name": "stdout",
     "output_type": "stream",
     "text": [
      "Election results :\n",
      "3521001\n",
      "['Khan', 'Correy', 'Li', \"O'Tooley\"]\n",
      "[63.0, 20.0, 14.0, 3.0]\n",
      "[2218231, 704200, 492940, 105630]\n",
      "Khan\n"
     ]
    },
    {
     "data": {
      "text/plain": [
       "12"
      ]
     },
     "execution_count": 1,
     "metadata": {},
     "output_type": "execute_result"
    }
   ],
   "source": [
    "import os \n",
    "import csv\n",
    "#path to the csvfile\n",
    "csvpath = os.path.join('C:\\\\Users\\\\6560b\\\\Desktop\\\\homeworkUofR\\\\Python HW\\\\03-Python_Python_Homework_Instructions_PyPoll_Resources_election_data.csv')\n",
    "\n",
    "#initializing the variables \n",
    "poll_data={}\n",
    "total_votes = 0\n",
    "with open(csvpath, 'r') as csvfile:\n",
    "    csvread = csv.reader(csvfile)\n",
    "    next(csvread, None)\n",
    "\n",
    "    for row in csvread:\n",
    "        total_votes += 1\n",
    "        if row[2] in poll_data.keys():\n",
    "            poll_data[row[2]] = poll_data[row[2]] + 1\n",
    "        else:\n",
    "            poll_data[row[2]] = 1 \n",
    "    \n",
    "\n",
    "candidates = []  \n",
    "tot_num_votes = []\n",
    "# Total Number of votes\n",
    "for key, value in poll_data.items():\n",
    "    candidates.append(key)\n",
    "    tot_num_votes.append(value)\n",
    "  \n",
    "# Percentage of votes\n",
    "percentage_votes =[]\n",
    "for n in tot_num_votes:\n",
    "    percentage_votes.append(round(n/total_votes * 100, 1))\n",
    " \n",
    "# Finding the winner\n",
    "clean_data = list(zip(candidates, tot_num_votes, percentage_votes))\n",
    "\n",
    "winner_list = []\n",
    "for name in clean_data:\n",
    "    if max(tot_num_votes) == name[1]:\n",
    "        winner_list.append(name[0])\n",
    "winner = winner_list[0]\n",
    "\n",
    "# Print all data\n",
    "print (\"Election results :\")\n",
    "print(total_votes) \n",
    "print(candidates)  \n",
    "print(percentage_votes)\n",
    "print(tot_num_votes)  \n",
    "print(winner)\n",
    "\n",
    "# Writng output files\n",
    "PyPoll = open(\"output.txt\",\"w+\")\n",
    "PyPoll.write(\"Election Results\")  \n",
    "PyPoll.write('\\n' + \"Total_votes\" + str(total_votes)) \n",
    "PyPoll.write('\\n' + str(candidates))\n",
    "PyPoll.write('\\n' + str(percentage_votes))\n",
    "PyPoll.write('\\n' + str(tot_num_votes)) \n",
    "PyPoll.write('\\n' + \"Winner:\" + winner)    \n",
    "\n",
    "\n"
   ]
  },
  {
   "cell_type": "code",
   "execution_count": null,
   "metadata": {},
   "outputs": [],
   "source": []
  },
  {
   "cell_type": "code",
   "execution_count": null,
   "metadata": {},
   "outputs": [],
   "source": []
  }
 ],
 "metadata": {
  "kernelspec": {
   "display_name": "Python 3",
   "language": "python",
   "name": "python3"
  },
  "language_info": {
   "codemirror_mode": {
    "name": "ipython",
    "version": 3
   },
   "file_extension": ".py",
   "mimetype": "text/x-python",
   "name": "python",
   "nbconvert_exporter": "python",
   "pygments_lexer": "ipython3",
   "version": "3.8.5"
  }
 },
 "nbformat": 4,
 "nbformat_minor": 4
}
